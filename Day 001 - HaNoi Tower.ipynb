{
 "cells": [
  {
   "cell_type": "markdown",
   "id": "640b9ffa-60e1-46e0-ac46-be823059476f",
   "metadata": {},
   "source": [
    "## Algorithm"
   ]
  },
  {
   "cell_type": "code",
   "execution_count": 5,
   "id": "9340ddeb-8371-4026-b1b5-960a3746d4d4",
   "metadata": {},
   "outputs": [],
   "source": [
    "def solve(\n",
    "    height: int, \n",
    "    left: str = 'left',\n",
    "    right: str = 'right', \n",
    "    middle: str = 'middle'\n",
    "):\n",
    "    if height:\n",
    "        solve(\n",
    "            height=height-1,\n",
    "            left=left,\n",
    "            right=middle,\n",
    "            middle=right\n",
    "        )\n",
    "        \n",
    "        print(left, '->', right)\n",
    "        \n",
    "        solve(\n",
    "            height=height-1,\n",
    "            left=middle,\n",
    "            right=right,\n",
    "            middle=left\n",
    "        )"
   ]
  },
  {
   "cell_type": "markdown",
   "id": "4766afb9-732f-40c4-bfa9-e9ffe070c831",
   "metadata": {},
   "source": [
    "## Run"
   ]
  },
  {
   "cell_type": "code",
   "execution_count": 6,
   "id": "5088f054-5d6c-4418-87e7-5509fe39a3a4",
   "metadata": {},
   "outputs": [
    {
     "name": "stdout",
     "output_type": "stream",
     "text": [
      "left -> right\n"
     ]
    }
   ],
   "source": [
    "solve(1)"
   ]
  },
  {
   "cell_type": "code",
   "execution_count": 7,
   "id": "d2f91d17-8208-4dc2-ba8f-2bb728b1fd76",
   "metadata": {},
   "outputs": [
    {
     "name": "stdout",
     "output_type": "stream",
     "text": [
      "left -> middle\n",
      "left -> right\n",
      "middle -> right\n"
     ]
    }
   ],
   "source": [
    "solve(2)"
   ]
  },
  {
   "cell_type": "code",
   "execution_count": 8,
   "id": "5fccf767-948f-434d-9fea-0d30ad20a742",
   "metadata": {},
   "outputs": [
    {
     "name": "stdout",
     "output_type": "stream",
     "text": [
      "left -> right\n",
      "left -> middle\n",
      "right -> middle\n",
      "left -> right\n",
      "middle -> left\n",
      "middle -> right\n",
      "left -> right\n"
     ]
    }
   ],
   "source": [
    "solve(3)"
   ]
  },
  {
   "cell_type": "code",
   "execution_count": 9,
   "id": "2a75bced-85f3-45f6-a607-7292381a9819",
   "metadata": {},
   "outputs": [
    {
     "name": "stdout",
     "output_type": "stream",
     "text": [
      "left -> middle\n",
      "left -> right\n",
      "middle -> right\n",
      "left -> middle\n",
      "right -> left\n",
      "right -> middle\n",
      "left -> middle\n",
      "left -> right\n",
      "middle -> right\n",
      "middle -> left\n",
      "right -> left\n",
      "middle -> right\n",
      "left -> middle\n",
      "left -> right\n",
      "middle -> right\n"
     ]
    }
   ],
   "source": [
    "solve(4)"
   ]
  },
  {
   "cell_type": "code",
   "execution_count": null,
   "id": "5be0e878-b400-4f30-b1e1-c1fbc7de369f",
   "metadata": {},
   "outputs": [],
   "source": []
  }
 ],
 "metadata": {
  "kernelspec": {
   "display_name": "Python 3 (ipykernel)",
   "language": "python",
   "name": "python3"
  },
  "language_info": {
   "codemirror_mode": {
    "name": "ipython",
    "version": 3
   },
   "file_extension": ".py",
   "mimetype": "text/x-python",
   "name": "python",
   "nbconvert_exporter": "python",
   "pygments_lexer": "ipython3",
   "version": "3.10.4"
  }
 },
 "nbformat": 4,
 "nbformat_minor": 5
}
