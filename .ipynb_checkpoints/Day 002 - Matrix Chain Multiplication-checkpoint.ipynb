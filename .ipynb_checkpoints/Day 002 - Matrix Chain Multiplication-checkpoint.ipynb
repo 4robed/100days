{
 "cells": [
  {
   "cell_type": "markdown",
   "id": "fb66c345-e674-48d0-b0a2-d8406e89d87e",
   "metadata": {},
   "source": [
    "## Algorithm"
   ]
  },
  {
   "cell_type": "code",
   "execution_count": 1,
   "id": "79cbd3a0-7c35-4ff7-baa3-a97c4ef56824",
   "metadata": {},
   "outputs": [],
   "source": [
    "def solve(chain):\n",
    "    n = len(chain)\n",
    "    \n",
    "    # single matrix chain has zero cost\n",
    "    aux = {(i, i): (0,) + chain[i] for i in range(n)}\n",
    "\n",
    "    # i: length of subchain\n",
    "    for i in range(1, n):\n",
    "        # j: starting index of subchain\n",
    "        for j in range(0, n - i):\n",
    "            best = float('inf')\n",
    "\n",
    "            # k: splitting point of subchain\n",
    "            for k in range(j, j + i):\n",
    "                # multiply subchains at splitting point\n",
    "                lcost, lname, lrow, lcol = aux[j, k]\n",
    "                rcost, rname, rrow, rcol = aux[k + 1, j + i]\n",
    "                cost = lcost + rcost + lrow * lcol * rcol\n",
    "                var = '(%s%s)' % (lname, rname)\n",
    "\n",
    "                # pick the best one\n",
    "                if cost < best:\n",
    "                    best = cost\n",
    "                    aux[j, j + i] = cost, var, lrow, rcol\n",
    "\n",
    "    return dict(zip(['cost', 'order', 'rows', 'cols'], aux[0, n - 1]))\n"
   ]
  },
  {
   "cell_type": "markdown",
   "id": "4f88d7b8-22d9-43f3-bd98-9eef158a7364",
   "metadata": {},
   "source": [
    "### Run"
   ]
  },
  {
   "cell_type": "code",
   "execution_count": 2,
   "id": "6de46ba7-17ca-45dc-aaed-bc30b2695fe1",
   "metadata": {},
   "outputs": [
    {
     "data": {
      "text/plain": [
       "{'cost': 18000, 'order': '((AB)C)', 'rows': 10, 'cols': 40}"
      ]
     },
     "execution_count": 2,
     "metadata": {},
     "output_type": "execute_result"
    }
   ],
   "source": [
    "solve([('A', 10, 20), ('B', 20, 30), ('C', 30, 40)])"
   ]
  },
  {
   "cell_type": "code",
   "execution_count": 4,
   "id": "8c544a86-5b36-4b8e-b1c7-4729171596b2",
   "metadata": {},
   "outputs": [
    {
     "data": {
      "text/plain": [
       "{'cost': 110, 'order': '(A(B(C(DE))))', 'rows': 10, 'cols': 1}"
      ]
     },
     "execution_count": 4,
     "metadata": {},
     "output_type": "execute_result"
    }
   ],
   "source": [
    "solve([('A', 10, 5), ('B', 5, 1), ('C', 1, 5), ('D', 5, 10), ('E', 10, 1)])"
   ]
  },
  {
   "cell_type": "code",
   "execution_count": null,
   "id": "0d0ac8d2-334c-4a24-a770-94251cc61675",
   "metadata": {},
   "outputs": [],
   "source": []
  }
 ],
 "metadata": {
  "kernelspec": {
   "display_name": "Python 3 (ipykernel)",
   "language": "python",
   "name": "python3"
  },
  "language_info": {
   "codemirror_mode": {
    "name": "ipython",
    "version": 3
   },
   "file_extension": ".py",
   "mimetype": "text/x-python",
   "name": "python",
   "nbconvert_exporter": "python",
   "pygments_lexer": "ipython3",
   "version": "3.10.4"
  }
 },
 "nbformat": 4,
 "nbformat_minor": 5
}
